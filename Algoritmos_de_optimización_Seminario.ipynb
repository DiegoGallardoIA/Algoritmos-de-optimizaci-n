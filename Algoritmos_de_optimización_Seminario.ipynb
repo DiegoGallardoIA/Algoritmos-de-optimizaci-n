{
  "nbformat": 4,
  "nbformat_minor": 0,
  "metadata": {
    "colab": {
      "name": "Algoritmos de optimización - Seminario.ipynb",
      "provenance": [],
      "collapsed_sections": [],
      "include_colab_link": true
    },
    "kernelspec": {
      "name": "python3",
      "display_name": "Python 3"
    }
  },
  "cells": [
    {
      "cell_type": "markdown",
      "metadata": {
        "id": "view-in-github",
        "colab_type": "text"
      },
      "source": [
        "<a href=\"https://colab.research.google.com/github/DiegoGallardoIA/Algoritmos-de-optimizacion/blob/Algoritmos-de-optimizaci%C3%B3n/Algoritmos_de_optimizaci%C3%B3n_Seminario.ipynb\" target=\"_parent\"><img src=\"https://colab.research.google.com/assets/colab-badge.svg\" alt=\"Open In Colab\"/></a>"
      ]
    },
    {
      "cell_type": "markdown",
      "metadata": {
        "id": "hVbXYX-RfPWh"
      },
      "source": [
        "# Algoritmos de optimización - Seminario<br>\n",
        "Nombre y Apellidos: Diego José Gallardo Romero <br>\n",
        "Url: https://github.com/DiegoGallardoIA/Algoritmos-de-optimizacion/blob/Algoritmos-de-optimizaci%C3%B3n/Algoritmos_de_optimizaci%C3%B3n_Seminario.ipynb<br>\n",
        "\n",
        "Problema:\n",
        ">1.<br>\n",
        ">2.<br>\n",
        ">3.Combinar cifras y operaciones\n",
        "\n",
        "Descripción del problema:(copiar enunciado)\n",
        "\n",
        "El problema consiste en analizar el siguiente problema y diseñar un algoritmo que lo resuelva.<br>\n",
        "• Disponemos de las 9 cifras del 1 al 9 (excluimos el cero) y de los 4 signos básicos de las \n",
        "operaciones fundamentales: suma(+), resta(-), multiplicación(*) y división(/)<br>\n",
        "• Debemos combinarlos alternativamente sin repetir ninguno de ellos para obtener una cantidad dada. Un ejemplo sería para obtener el 4:<br>\n",
        "4+2-6/3*1 = 4<br>\n",
        "• Debe analizarse el problema para encontrar todos los valores enteros posibles planteando las siguientes cuestiones:\n",
        "- ¿Qué valor máximo y mínimo se pueden obtener según las condiciones del problema?\n",
        "- ¿Es posible encontrar todos los valores enteros posibles entre dicho mínimo y máximo ?\n",
        "\n",
        "(*) La respuesta es obligatoria\n",
        "                              "
      ]
    },
    {
      "cell_type": "code",
      "metadata": {
        "id": "AiskKkzZfy4e"
      },
      "source": [
        "Valor máximo encontrado: 7+8*9-2/1 = 77\n",
        "Valor mínimo encontrado: 1+4/2-8*9 = -69\n",
        " \n",
        "Hay solución para todos los valores enteros intermedios."
      ],
      "execution_count": null,
      "outputs": []
    },
    {
      "cell_type": "markdown",
      "metadata": {
        "id": "3_-exlrTgLd-"
      },
      "source": [
        "(*)¿Cuantas posibilidades hay sin tener en cuenta las restricciones?<br>\n",
        "\n",
        "\n",
        "\n",
        "¿Cuantas posibilidades hay teniendo en cuenta todas las restricciones.\n",
        "\n",
        "\n"
      ]
    },
    {
      "cell_type": "markdown",
      "metadata": {
        "id": "WfCUqJyKhPcw"
      },
      "source": [
        "Respuesta"
      ]
    },
    {
      "cell_type": "code",
      "metadata": {
        "id": "iq6Fe32MgpDX"
      },
      "source": [
        "9^4*4^3= 419.904 posibilidades sin tener en cuenta las restricciones\n",
        "9*4*8*3*7*2*6=72.576 posibilidades teniendo en cuenta las restricciones"
      ],
      "execution_count": null,
      "outputs": []
    },
    {
      "cell_type": "markdown",
      "metadata": {
        "id": "dzynfVJahHoY"
      },
      "source": [
        "Modelo para el espacio de soluciones<br>\n",
        "(*) ¿Cual es la estructura de datos que mejor se adapta al problema? Argumentalo.(Es posible que hayas elegido una al principio y veas la necesidad de cambiar, arguentalo)\n"
      ]
    },
    {
      "cell_type": "markdown",
      "metadata": {
        "id": "xFIJrOwKi2Ti"
      },
      "source": [
        "Respuesta"
      ]
    },
    {
      "cell_type": "code",
      "metadata": {
        "id": "38c-7-ejhJmA"
      },
      "source": [
        "He utilizado un string porque permite montar la fórmula de manera incremental de izquierda a derecha y nos permite hacer\n",
        "búsquedas en ella para determinar si hay algún numero u operación que ya se ha utilizado."
      ],
      "execution_count": null,
      "outputs": []
    },
    {
      "cell_type": "markdown",
      "metadata": {
        "id": "7Z9U2W7bi-XS"
      },
      "source": [
        "Según el modelo para el espacio de soluciones<br>\n",
        "(*)¿Cual es la función objetivo?\n",
        "\n",
        "(*)¿Es un problema de maximización o minimización?"
      ]
    },
    {
      "cell_type": "markdown",
      "metadata": {
        "id": "hBalWLM7j1_d"
      },
      "source": [
        "Respuesta"
      ]
    },
    {
      "cell_type": "code",
      "metadata": {
        "id": "pDA-rg3Gj5Lz"
      },
      "source": [
        "N1 O1 N2 O2 N3 O3 N4 O4 N5 = R\n",
        "Siendo:\n",
        "\tN: operando\n",
        "\tO: operador\n",
        "\tR: resultado\n",
        "\n",
        "No lo parece porque no se trata de buscar minimizar o maximizar el resultado sino de sacar todos los posibles."
      ],
      "execution_count": null,
      "outputs": []
    },
    {
      "cell_type": "markdown",
      "metadata": {
        "id": "rlnTYgY1j6I2"
      },
      "source": [
        "Diseña un algoritmo para resolver el problema por fuerza bruta"
      ]
    },
    {
      "cell_type": "markdown",
      "metadata": {
        "id": "70rDgxYXkC8r"
      },
      "source": [
        "Respuesta"
      ]
    },
    {
      "cell_type": "code",
      "metadata": {
        "id": "CJb5sQ0qkENy"
      },
      "source": [
        "from itertools import permutations\n",
        "from random import randint\n",
        "\n",
        "def fbruta(n):\n",
        "    coste = 0\n",
        "    s = [ r for r in range(1,10)]\n",
        "    cb = permutations(s,5)\n",
        "    l = ['+','-','*','/']\n",
        "    for c in cb:    \n",
        "        cb2 = permutations(l,4)\n",
        "        for c2 in cb2:\n",
        "            coste += 1\n",
        "            str_op = str(c[0])+c2[0]+str(c[1])+c2[1]+str(c[2])+c2[2]+str(c[3])+c2[3]+str(c[4])\n",
        "            value = eval(str_op)\n",
        "            if value == n:\n",
        "                return str_op, coste\n",
        "    return res"
      ],
      "execution_count": null,
      "outputs": []
    },
    {
      "cell_type": "markdown",
      "metadata": {
        "id": "tgrnsC2nkFa8"
      },
      "source": [
        "Calcula la complejidad del algoritmo por fuerza bruta"
      ]
    },
    {
      "cell_type": "markdown",
      "metadata": {
        "id": "9eUd3xwckP68"
      },
      "source": [
        "Respuesta"
      ]
    },
    {
      "cell_type": "code",
      "metadata": {
        "id": "rvZWwL-ckRST"
      },
      "source": [
        "… O(1)\n",
        "    for c in cb:     O(N^5)\n",
        "        …  O(1)\n",
        "        for c2 in cb2:  O(N^4)\n",
        "            … O(1)\n"
      ],
      "execution_count": null,
      "outputs": []
    },
    {
      "cell_type": "markdown",
      "metadata": {
        "id": "txbrmLmskReM"
      },
      "source": [
        "(*)Diseña un algoritmo que mejore la complejidad del algortimo por fuerza bruta. Argumenta porque crees que mejora el algoritmo por fuerza bruta"
      ]
    },
    {
      "cell_type": "markdown",
      "metadata": {
        "id": "hLrVwt5QkZPD"
      },
      "source": [
        "Respuesta"
      ]
    },
    {
      "cell_type": "code",
      "metadata": {
        "id": "m1eyM21Vkabg"
      },
      "source": [
        "#en cada llamada recursiva se añade un numero y un operador. La poda consiste en numeros y operadores ya utilizados en la expresion\n",
        "def r_p(n):\n",
        "    coste = [0]\n",
        "    return r_p_rec(n, \"\", coste, 1)\n",
        "\n",
        "#en cada llamada recursiva se añade un numero y un operador. La poda consiste en numeros y operadores ya utilizados en la expresion\n",
        "def r_p_rec(n, expr, coste, k):\n",
        "    #para el primer ciclo no hay operador, solo numero: k = 1\n",
        "    if k == 1:\n",
        "        l = [' ']\n",
        "    else:\n",
        "        l = ['+','-','*','/']\n",
        "    #combinacion de operador y numero\n",
        "    for op in l:\n",
        "        for num in range(1,10):\n",
        "            #podamos si estan repetidos\n",
        "            if completable(op, num, expr, n):\n",
        "                #montamos la nueva expresion\n",
        "                new_expr = expr + op + str(num)\n",
        "                coste[0] += 1\n",
        "                #si no esta completa \n",
        "                if k < 5:\n",
        "                    #seguimos montandola recursivamente. En cuanto finalice alguna comprobamos si ha encontrado solucion\n",
        "                    ret = r_p_rec(n, new_expr, coste, k+1)\n",
        "                    #si la ha encontrado finalizamos esto hará que se rompa la cadena recursiva y terminará el proceso\n",
        "                    if ret != None:\n",
        "                        return ret\n",
        "                #si está completa\n",
        "                else:\n",
        "                    #si es la buscada finalizamos\n",
        "                    if eval(new_expr) == n:\n",
        "                        return new_expr, coste[0]\n",
        "    return None\n",
        "\n",
        "def completable(op, num, expr, n):\n",
        "    #restricción de no repetidos\n",
        "    if op in expr or str(num) in expr:\n",
        "        return False\n",
        "    #otras podas \n",
        "    if '+' in expr and '*' in expr and '/' in expr and eval(expr) < n:\n",
        "        return False\n",
        "    if '/' in expr and '-' in expr and '*' in expr and eval(expr) > n:\n",
        "        return False\n",
        "    return True"
      ],
      "execution_count": null,
      "outputs": []
    },
    {
      "cell_type": "code",
      "source": [
        "Se trata de un algoritmo de poda y ramificación recursivo. La poda se lleva a cabo cuando:\n",
        "-hay algún operador repetido\n",
        "-hay un operando repetido\n",
        "-la expresión actual es mayor que el numero buscado y se han utilizado los operandos *, – y /\n",
        "-la expresión actual es menor que el numero buscado y se han utilizado los operandos *, + y /"
      ],
      "metadata": {
        "id": "9zZQzdqKPK-5"
      },
      "execution_count": null,
      "outputs": []
    },
    {
      "cell_type": "markdown",
      "metadata": {
        "id": "eGDB4K6uk1iN"
      },
      "source": [
        "(*)Calcula la complejidad del algoritmo "
      ]
    },
    {
      "cell_type": "markdown",
      "metadata": {
        "id": "NhpTh_BPk1ms"
      },
      "source": [
        "Respuesta"
      ]
    },
    {
      "cell_type": "code",
      "metadata": {
        "id": "nREzhkStlCq8"
      },
      "source": [
        "O(Log N)\n",
        "\n",
        "… O(1)\n",
        "    for op in l:  O(N)\n",
        "        for num in range(1,10):  O(N)\n",
        "                … O(1)\n",
        "                ret = r_p(n, new_expr, coste, k+1) k*\n",
        "                … O(1)\n"
      ],
      "execution_count": null,
      "outputs": []
    },
    {
      "cell_type": "markdown",
      "metadata": {
        "id": "3M6QjTsSkmYe"
      },
      "source": [
        "Según el problema (y tenga sentido), diseña un juego de datos de entrada aleatorios"
      ]
    },
    {
      "cell_type": "markdown",
      "metadata": {
        "id": "Jc3_OlyNkvjZ"
      },
      "source": [
        "Respuesta"
      ]
    },
    {
      "cell_type": "code",
      "metadata": {
        "id": "sJ-N2etjkyWc"
      },
      "source": [
        "if __name__ == \"__main__\":    \n",
        "  \n",
        "    for i in range(0,20):\n",
        "        prueba = randint(minimo, maximo)\n",
        "        solucion = fbruta(prueba)\n",
        "        print(\"Prueba: \" + str(prueba))\n",
        "        print(\"Fuerza bruta: \" + str(solucion[0]) + \" coste: \" + str(solucion[1]))\n",
        "        solucion = r_p(prueba)\n",
        "        print(\"Ramificación y poda: \" + str(solucion[0]) + \" coste: \" + str(solucion[1]))"
      ],
      "execution_count": null,
      "outputs": []
    },
    {
      "cell_type": "markdown",
      "metadata": {
        "id": "zy5ZROmjlGo1"
      },
      "source": [
        "Aplica el algoritmo al juego de datos generado"
      ]
    },
    {
      "cell_type": "markdown",
      "metadata": {
        "id": "_Cmj-PVylMsa"
      },
      "source": [
        "Respuesta"
      ]
    },
    {
      "cell_type": "code",
      "metadata": {
        "id": "Jkx8GeiYlUz1"
      },
      "source": [
        "Prueba: 61\n",
        "Fuerza bruta: 1-6/2+7*9 coste: 20627\n",
        "Ramificación y poda:  1+7*9-6/2 coste: 6368\n",
        "Prueba: 58\n",
        "Fuerza bruta: 3/1+7*9-8 coste: 84236\n",
        "Ramificación y poda:  3+7*9-8/1 coste: 84707\n",
        "Prueba: -1\n",
        "Fuerza bruta: 1+2-3/6*8 coste: 314\n",
        "Ramificación y poda:  1+2-3*8/6 coste: 31\n",
        "Prueba: 35\n",
        "Fuerza bruta: 1+4*9-6/3 coste: 14787\n",
        "Ramificación y poda:  1+4*9-6/3 coste: 3021\n",
        "Prueba: -21\n",
        "Fuerza bruta: 1+2-8/3*9 coste: 3698\n",
        "Ramificación y poda:  1+2-8*9/3 coste: 400\n",
        "Prueba: 58\n",
        "Fuerza bruta: 3/1+7*9-8 coste: 84236\n",
        "Ramificación y poda:  3+7*9-8/1 coste: 84707\n",
        "Prueba: -68\n",
        "Fuerza bruta: 1+6/2-8*9 coste: 20741\n",
        "Ramificación y poda:  1+6/2-8*9 coste: 7191\n",
        "Prueba: 74\n",
        "Fuerza bruta: 4/1-2+8*9 coste: 121557\n",
        "Ramificación y poda:  4+8*9-2/1 coste: 124551\n",
        "Prueba: 38\n",
        "Fuerza bruta: 1+5*8-6/2 coste: 19083\n",
        "Ramificación y poda:  1+5*8-6/2 coste: 4091\n",
        "Prueba: -59\n",
        "Fuerza bruta: 1+6/2-7*9 coste: 20621\n",
        "Ramificación y poda:  1+6/2-7*9 coste: 7185\n",
        "Prueba: -46\n",
        "Fuerza bruta: 3/1+5-6*9 coste: 82435\n",
        "Ramificación y poda:  3+5-6*9/1 coste: 83574\n",
        "Prueba: -30\n",
        "Fuerza bruta: 1-5*7+8/2 coste: 18489\n",
        "Ramificación y poda:  1+5-8*9/2 coste: 5002\n",
        "Prueba: 60\n",
        "Fuerza bruta: 1+7*9-8/2 coste: 30123\n",
        "Ramificación y poda:  1+7*9-8/2 coste: 6374\n",
        "Prueba: -56\n",
        "Fuerza bruta: 2/1+5-7*9 coste: 42235\n",
        "Ramificación y poda:  2+5-7*9/1 coste: 44058\n",
        "Prueba: -14\n",
        "Fuerza bruta: 1+3-4/2*9 coste: 5858\n",
        "Ramificación y poda:  1+3-4*9/2 coste: 1642\n",
        "Prueba: -46\n",
        "Fuerza bruta: 3/1+5-6*9 coste: 82435\n",
        "Ramificación y poda:  3+5-6*9/1 coste: 83574\n",
        "Prueba: 46\n",
        "Fuerza bruta: 1+6*8-9/3 coste: 24387\n",
        "Ramificación y poda:  1+6*8-9/3 coste: 5218\n",
        "Prueba: -69\n",
        "Fuerza bruta: 1+4/2-8*9 coste: 10661\n",
        "Ramificación y poda:  1+4/2-8*9 coste: 4123\n",
        "Prueba: 53\n",
        "Fuerza bruta: 1-4/2+6*9 coste: 10427\n",
        "Ramificación y poda:  1+6*9-4/2 coste: 5242\n",
        "Prueba: 49\n",
        "Fuerza bruta: 2/1+6*9-7 coste: 43172\n",
        "Ramificación y poda:  2+6*9-7/1 coste: 44508"
      ],
      "execution_count": null,
      "outputs": []
    },
    {
      "cell_type": "markdown",
      "metadata": {
        "id": "eTFWUJQrtGcv"
      },
      "source": [
        "Enumera las referencias que has utilizado(si ha sido necesario) para llevar a cabo el trabajo"
      ]
    },
    {
      "cell_type": "markdown",
      "metadata": {
        "id": "YKQ_mRBttWsP"
      },
      "source": [
        "Respuesta"
      ]
    },
    {
      "cell_type": "markdown",
      "metadata": {
        "id": "kAkDPUyRtYyH"
      },
      "source": [
        "Describe brevemente las lineas de como crees que es posible avanzar en el estudio del problema. Ten en cuenta incluso posibles variaciones del problema y/o variaciones al alza del tamaño"
      ]
    },
    {
      "cell_type": "markdown",
      "metadata": {
        "id": "IE0uZmo-tZu-"
      },
      "source": [
        "Respuesta"
      ]
    }
  ]
}